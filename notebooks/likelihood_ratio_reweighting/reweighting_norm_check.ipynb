{
 "cells": [
  {
   "cell_type": "code",
   "execution_count": 1,
   "id": "9b9a3d5a-f4b4-4737-9729-9b30b4e50e61",
   "metadata": {},
   "outputs": [],
   "source": [
    "import numpy as np\n",
    "import pandas as pd\n",
    "import torch\n",
    "import torch.nn as nn\n",
    "from sklearn.model_selection import train_test_split\n",
    "\n",
    "import matplotlib  \n",
    "import matplotlib.pyplot as plt\n",
    "\n",
    "from tqdm import tqdm"
   ]
  },
  {
   "cell_type": "code",
   "execution_count": 2,
   "id": "8fc3feaf-8dff-456e-a0f9-8bb376fb0363",
   "metadata": {},
   "outputs": [],
   "source": [
    "## Neural network tools\n",
    "def get_batches(arrays, batch_size=None, randomise=False, include_remainder=True):\n",
    "    length = len(arrays[0])\n",
    "    idx = np.arange(length)\n",
    "\n",
    "    if randomise:\n",
    "        np.random.shuffle(idx)\n",
    "\n",
    "    n_full_batches = length // batch_size\n",
    "    is_remainder = (length % batch_size > 0)\n",
    "\n",
    "    if is_remainder and include_remainder:\n",
    "        n_batches = n_full_batches + 1\n",
    "    else:\n",
    "        n_batches = n_full_batches\n",
    "\n",
    "    for i_batch in range(n_batches):\n",
    "        if i_batch < n_full_batches:\n",
    "            batch_idx = idx[i_batch*batch_size:(i_batch+1)*batch_size]\n",
    "        else:\n",
    "            batch_idx = idx[i_batch*batch_size:]\n",
    "\n",
    "        arrays_batch = [torch.Tensor(array[batch_idx]) for array in arrays]\n",
    "        yield arrays_batch\n",
    "\n",
    "def get_total_loss(model, loss, X, y, mean_over_batch=False):\n",
    "    eval_batch_size = min(1024*2**8,len(X))\n",
    "    losses = [] # contain loss from every batch\n",
    "\n",
    "    with torch.no_grad():\n",
    "        for X_tensor, y_tensor in get_batches([X, y], eval_batch_size):\n",
    "            output = model(X_tensor)\n",
    "            losses.append(loss(output, y_tensor).item()*len(output))\n",
    "\n",
    "        if mean_over_batch:\n",
    "            mean_loss = sum(losses) / len(losses)\n",
    "        else:\n",
    "            mean_loss = sum(losses) / len(X)\n",
    "\n",
    "    return mean_loss\n",
    "\n",
    "def get_network_output(df, features, model):\n",
    "    with torch.no_grad():\n",
    "        X = df[features].to_numpy() #Now check what corrections are for test_df\n",
    "\n",
    "        eval_batch_size = min(1024*2**8,len(df))\n",
    "        outputs = []\n",
    "\n",
    "        for X_tensor, in get_batches([X], eval_batch_size):\n",
    "              outputs.append(model(X_tensor).numpy())\n",
    "\n",
    "        output = np.concatenate(outputs)\n",
    "\n",
    "    return output"
   ]
  },
  {
   "cell_type": "code",
   "execution_count": 3,
   "id": "c030e5a0-a0db-456c-b6d4-d96c789dc836",
   "metadata": {},
   "outputs": [],
   "source": [
    "# Two datasets: 1D\n",
    "lambda_a, lambda_b = 3.5, 3.0\n",
    "\n",
    "f_a = torch.distributions.exponential.Exponential(rate=lambda_a)\n",
    "f_b = torch.distributions.exponential.Exponential(rate=lambda_b)"
   ]
  },
  {
   "cell_type": "code",
   "execution_count": 4,
   "id": "60e377c9-49ca-464c-8b6d-6d8bf8c5028d",
   "metadata": {},
   "outputs": [],
   "source": [
    "# Simulate events and store in dataframe\n",
    "def generate_simulation(f, N, type='a'):\n",
    "    events = f.sample((N,1))\n",
    "    df = pd.DataFrame(events, columns=['x'])\n",
    "    if type == 'a':\n",
    "        df['is_a'] = 1\n",
    "        df['is_b'] = 0\n",
    "    else:\n",
    "        df['is_a'] = 0\n",
    "        df['is_b'] = 1\n",
    "    return df"
   ]
  },
  {
   "cell_type": "code",
   "execution_count": 5,
   "id": "4c43b241-81c7-4858-9ede-4b7411fb2295",
   "metadata": {},
   "outputs": [],
   "source": [
    "N = 100000\n",
    "df_a = generate_simulation(f_a, N, type='a')\n",
    "df_b = generate_simulation(f_b, N, type='b')\n",
    "\n",
    "# Add Z-score adjusted variable\n",
    "m = np.concatenate([df_a['x'],df_b['x']]).mean()\n",
    "s = np.concatenate([df_a['x'],df_b['x']]).std()\n",
    "df_a['xT'] = (df_a['x']-m)/s\n",
    "df_b['xT'] = (df_b['x']-m)/s"
   ]
  },
  {
   "cell_type": "code",
   "execution_count": 6,
   "id": "ad38bf0f-1454-4d76-9545-53c13c774946",
   "metadata": {},
   "outputs": [
    {
     "data": {
      "text/plain": [
       "Text(0, 0.5, 'Entries')"
      ]
     },
     "execution_count": 6,
     "metadata": {},
     "output_type": "execute_result"
    },
    {
     "data": {
      "image/png": "[encoded data removed]",
      "text/plain": [
       "<Figure size 576x288 with 2 Axes>"
      ]
     },
     "metadata": {
      "needs_background": "light"
     },
     "output_type": "display_data"
    }
   ],
   "source": [
    "nbins = 50\n",
    "xrange = (0,3)\n",
    "\n",
    "fig, axs = plt.subplots(1,2, figsize=(8,4))\n",
    "axs[0].hist(df_a['x'], bins=nbins, range=xrange, label='A', color='red', alpha=0.5)\n",
    "axs[0].hist(df_b['x'], bins=nbins, range=xrange, label='B', color='blue', alpha=0.5)\n",
    "axs[0].legend(loc='best')\n",
    "axs[0].set_xlabel(\"x\")\n",
    "axs[0].set_ylabel(\"Entries\")\n",
    "\n",
    "axs[1].hist(df_a['xT'], bins=nbins, range=(-3,3), label='A', color='red', alpha=0.5)\n",
    "axs[1].hist(df_b['xT'], bins=nbins, range=(-3,3), label='B', color='blue', alpha=0.5)\n",
    "axs[1].legend(loc='best')\n",
    "axs[1].set_xlabel(\"xT\")\n",
    "axs[1].set_ylabel(\"Entries\")"
   ]
  },
  {
   "cell_type": "code",
   "execution_count": 7,
   "id": "e573e4c3-bb01-4318-a610-209bc3aacb16",
   "metadata": {},
   "outputs": [],
   "source": [
    "# Train neural network to classify between S and B\n",
    "train_hp = {\n",
    "    \"lr\":0.0001,\n",
    "    \"batch_size\":1000,\n",
    "    \"N_epochs\":100,\n",
    "    \"seed\":0\n",
    "}\n",
    "\n",
    "def set_seed(seed):\n",
    "    torch.manual_seed(seed)\n",
    "    np.random.seed(seed)\n",
    "set_seed(train_hp['seed'])"
   ]
  },
  {
   "cell_type": "code",
   "execution_count": 8,
   "id": "c68ce469-db66-4224-9930-7c2eccf377c2",
   "metadata": {},
   "outputs": [],
   "source": [
    "class Net(nn.Module):\n",
    "    def __init__(self, n_features=3, nodes=[100,100], output_nodes=1):\n",
    "        super(Net, self).__init__()\n",
    "        # Build network\n",
    "        n_nodes = [n_features] + nodes + [output_nodes]\n",
    "        self.layers = nn.ModuleList()\n",
    "        for i in range(len(n_nodes)-1):\n",
    "            self.layers.append(nn.Linear(n_nodes[i], n_nodes[i+1]))\n",
    "            #self.layers.append(nn.ReLU())\n",
    "            self.layers.append(nn.Tanh())\n",
    "\n",
    "    def forward(self, x):\n",
    "        out = self.layers[0](x)\n",
    "        for layer in self.layers[1:]:\n",
    "            out = layer(out)\n",
    "        # Apply softmax\n",
    "        return torch.sigmoid(out)"
   ]
  },
  {
   "cell_type": "code",
   "execution_count": 9,
   "id": "a30f3b76-9f51-4420-b06e-fa9c8fb1dcca",
   "metadata": {},
   "outputs": [],
   "source": [
    "# Function to train network with cross entropy loss\n",
    "def train_network_cross_entropy(model, train_df, test_df, features=['xT'], train_hp={}):\n",
    "    optimiser = torch.optim.Adam(model.parameters(), lr=train_hp[\"lr\"])\n",
    "\n",
    "    X_train = train_df[features].to_numpy()\n",
    "    X_test = test_df[features].to_numpy()\n",
    "    y_train = train_df[[\"is_a\"]].to_numpy()\n",
    "    y_test = test_df[[\"is_a\"]].to_numpy()\n",
    "\n",
    "    ce_loss = nn.BCELoss()\n",
    "    train_loss, test_loss = [], []\n",
    "\n",
    "    print(\">> Training...\")\n",
    "    with tqdm(range(train_hp[\"N_epochs\"])) as t:\n",
    "        for i_epoch in t:\n",
    "            model.train()\n",
    "\n",
    "            # \"get_batches\": function defined in statml_tools.py to separate the training data into batches\n",
    "            batch_gen = get_batches([X_train, y_train], batch_size=train_hp['batch_size'],\n",
    "                                    randomise=True, include_remainder=False\n",
    "                                   )\n",
    "            \n",
    "            for X_tensor, y_tensor in batch_gen:\n",
    "                optimiser.zero_grad()\n",
    "                output = model(X_tensor)\n",
    "                loss = ce_loss(output, y_tensor)\n",
    "                loss.backward()\n",
    "                optimiser.step()\n",
    "\n",
    "            model.eval()\n",
    "            # \"get_total_loss\": function defined in statml_tools.py to evaluate the network in batches (useful for large datasets)\n",
    "            train_loss.append(get_total_loss(model, ce_loss, X_train, y_train))\n",
    "            test_loss.append(get_total_loss(model, ce_loss, X_test, y_test))\n",
    "            t.set_postfix(train_loss=train_loss[-1], test_loss=test_loss[-1])\n",
    "\n",
    "    print(\">> Training finished\")\n",
    "    model.eval()\n",
    "\n",
    "    return model, train_loss, test_loss"
   ]
  },
  {
   "cell_type": "code",
   "execution_count": 10,
   "id": "d3a1760e-6c5f-436b-af6a-f3a3a98913b3",
   "metadata": {},
   "outputs": [],
   "source": [
    "# Do test-train split for simulated data\n",
    "A_train, A_test = train_test_split(df_a, test_size=0.5, random_state=train_hp['seed'])\n",
    "B_train, B_test = train_test_split(df_b, test_size=0.5, random_state=train_hp['seed'])\n",
    "train_df = pd.concat([A_train, B_train]).sample(frac=1)\n",
    "test_df = pd.concat([A_test, B_test]).sample(frac=1)"
   ]
  },
  {
   "cell_type": "code",
   "execution_count": 11,
   "id": "d27fba3a-c931-4d70-8030-35005249f467",
   "metadata": {},
   "outputs": [],
   "source": [
    "# Initialise network\n",
    "model_bce = Net(n_features=1, nodes=[10,10], output_nodes=1)"
   ]
  },
  {
   "cell_type": "code",
   "execution_count": 12,
   "id": "5bce939e-c169-4476-bb7d-18a8b59f4bd3",
   "metadata": {},
   "outputs": [
    {
     "name": "stdout",
     "output_type": "stream",
     "text": [
      ">> Training...\n"
     ]
    },
    {
     "name": "stderr",
     "output_type": "stream",
     "text": [
      "100%|██████████| 100/100 [00:14<00:00,  6.98it/s, test_loss=0.69, train_loss=0.69] "
     ]
    },
    {
     "name": "stdout",
     "output_type": "stream",
     "text": [
      ">> Training finished\n"
     ]
    },
    {
     "name": "stderr",
     "output_type": "stream",
     "text": [
      "\n"
     ]
    }
   ],
   "source": [
    "# Train network\n",
    "model_bce, train_loss_bce, test_loss_bce = train_network_cross_entropy(model_bce, train_df, test_df, train_hp=train_hp)"
   ]
  },
  {
   "cell_type": "code",
   "execution_count": 13,
   "id": "63afc95e-b8b5-4513-9aa4-e6cfd28d9d5d",
   "metadata": {},
   "outputs": [
    {
     "data": {
      "text/plain": [
       "Text(0, 0.5, 'BCE loss')"
      ]
     },
     "execution_count": 13,
     "metadata": {},
     "output_type": "execute_result"
    },
    {
     "data": {
      "image/png": "[encoded data removed]",
      "text/plain": [
       "<Figure size 432x288 with 1 Axes>"
      ]
     },
     "metadata": {
      "needs_background": "light"
     },
     "output_type": "display_data"
    }
   ],
   "source": [
    "# Plot loss function curves\n",
    "fig, ax = plt.subplots()\n",
    "ax.plot(np.linspace(0,train_hp[\"N_epochs\"]-1,train_hp[\"N_epochs\"]), train_loss_bce, label=\"Train\")\n",
    "ax.plot(np.linspace(0,train_hp[\"N_epochs\"]-1,train_hp[\"N_epochs\"]), test_loss_bce, label=\"Test\")\n",
    "ax.legend(loc='best')\n",
    "ax.set_xlabel(\"Number of epochs\")\n",
    "ax.set_ylabel(\"BCE loss\")"
   ]
  },
  {
   "cell_type": "code",
   "execution_count": 14,
   "id": "96878883-0764-47b6-8ac2-8b2f41cfead9",
   "metadata": {},
   "outputs": [],
   "source": [
    "# Add BCE network output to dataframes \n",
    "df_a['nn_bce'] = model_bce(torch.tensor(df_a[['xT']].to_numpy())).detach()\n",
    "df_b['nn_bce'] = model_bce(torch.tensor(df_b[['xT']].to_numpy())).detach()"
   ]
  },
  {
   "cell_type": "code",
   "execution_count": 15,
   "id": "ff4f4316-cd3f-46b2-bf9c-b0e85411a983",
   "metadata": {},
   "outputs": [
    {
     "data": {
      "text/plain": [
       "Text(0, 0.5, 'w')"
      ]
     },
     "execution_count": 15,
     "metadata": {},
     "output_type": "execute_result"
    },
    {
     "data": {
      "image/png": "[encoded data removed]",
      "text/plain": [
       "<Figure size 576x288 with 2 Axes>"
      ]
     },
     "metadata": {
      "needs_background": "light"
     },
     "output_type": "display_data"
    }
   ],
   "source": [
    "x_arr = np.linspace(0,15,200, dtype='float32')\n",
    "xT_arr = (x_arr-m)/s\n",
    "f = model_bce(torch.tensor(pd.DataFrame(xT_arr).to_numpy())).detach()\n",
    "w = f/(1-f)\n",
    "\n",
    "fig, axs = plt.subplots(1,2, figsize=(8,4))\n",
    "axs[0].plot(x_arr, f)\n",
    "axs[0].set_xlabel(\"x\")\n",
    "axs[0].set_ylabel(\"f\")\n",
    "\n",
    "axs[1].plot(x_arr, w)\n",
    "axs[1].set_xlabel(\"x\")\n",
    "axs[1].set_ylabel(\"w\")"
   ]
  },
  {
   "cell_type": "code",
   "execution_count": 16,
   "id": "2188456a-08b5-424a-8de7-b7260a3f3121",
   "metadata": {},
   "outputs": [],
   "source": [
    "df_b['rwgt'] = df_b['nn_bce']/(1-df_b['nn_bce'])"
   ]
  },
  {
   "cell_type": "code",
   "execution_count": 17,
   "id": "75584d1c-492b-46e4-bc88-22d743d3fc58",
   "metadata": {},
   "outputs": [
    {
     "data": {
      "text/plain": [
       "Text(0, 0.5, 'Entries')"
      ]
     },
     "execution_count": 17,
     "metadata": {},
     "output_type": "execute_result"
    },
    {
     "data": {
      "image/png": "[encoded data removed]",
      "text/plain": [
       "<Figure size 432x288 with 1 Axes>"
      ]
     },
     "metadata": {
      "needs_background": "light"
     },
     "output_type": "display_data"
    }
   ],
   "source": [
    "nbins = 50\n",
    "xrange = (0,1.5)\n",
    "\n",
    "fig, ax = plt.subplots()\n",
    "ax.hist(df_a['x'], bins=nbins, range=xrange, label='A', color='red', alpha=0.2)\n",
    "ax.hist(df_b['x'], bins=nbins, range=xrange, label='B', color='blue', alpha=0.2)\n",
    "ax.hist(df_b['x'], bins=nbins, range=xrange, label='B (rwgt)', color='black', histtype='step', weights=df_b['rwgt'])\n",
    "ax.legend(loc='best')\n",
    "ax.set_xlabel(\"x\")\n",
    "ax.set_ylabel(\"Entries\")\n",
    "#ax.set_yscale(\"log\")"
   ]
  },
  {
   "cell_type": "code",
   "execution_count": 18,
   "id": "76226f96-056e-45e2-8ba3-ebd11a3284a0",
   "metadata": {},
   "outputs": [
    {
     "name": "stdout",
     "output_type": "stream",
     "text": [
      "Norm: A = 100000, B = 100000, B(rwgt) = 100463.21875\n"
     ]
    }
   ],
   "source": [
    "# Total sum of weights\n",
    "A = len(df_a)\n",
    "B = len(df_b)\n",
    "B_rwgt = df_b['rwgt'].sum()\n",
    "print(f\"Norm: A = {A}, B = {B}, B(rwgt) = {B_rwgt}\")"
   ]
  },
  {
   "cell_type": "code",
   "execution_count": 19,
   "id": "94bbf59d-02eb-4883-9983-584c2161d75a",
   "metadata": {},
   "outputs": [
    {
     "data": {
      "text/plain": [
       "Text(0, 0.5, 'Entries')"
      ]
     },
     "execution_count": 19,
     "metadata": {},
     "output_type": "execute_result"
    },
    {
     "data": {
      "image/png": "[encoded data removed]",
      "text/plain": [
       "<Figure size 432x288 with 1 Axes>"
      ]
     },
     "metadata": {
      "needs_background": "light"
     },
     "output_type": "display_data"
    }
   ],
   "source": [
    "# Generate new background with slightly changed distribution\n",
    "lambda_bprime = np.linspace(2.75,3.25,50)\n",
    "N = 100000\n",
    "Bprime_rwgt = []\n",
    "\n",
    "fig, ax = plt.subplots()\n",
    "\n",
    "for i, lb in enumerate(lambda_bprime):\n",
    "\n",
    "    f_bprime = torch.distributions.exponential.Exponential(rate=lb)\n",
    "    df_bprime = generate_simulation(f_bprime, N, type='b')\n",
    "    if i % 5 == 0:\n",
    "        ax.hist(df_bprime['x'], bins=nbins, range=xrange, label=f\"$\\lambda_b$ = {lb:.3f}\", histtype='step')\n",
    "\n",
    "    df_bprime['xT'] = (df_bprime['x']-m)/s\n",
    "    df_bprime['nn_bce'] = model_bce(torch.tensor(df_bprime[['xT']].to_numpy())).detach()\n",
    "    df_bprime['rwgt'] = df_bprime['nn_bce']/(1-df_bprime['nn_bce'])\n",
    "    Bprime_rwgt.append(df_bprime['rwgt'].sum())\n",
    "\n",
    "ax.hist(df_b['x'], bins=nbins, range=xrange, label=f\"Nominal, $\\lambda_b$ = {lambda_b:.2f}\", color='blue', alpha=0.2)\n",
    "ax.legend(loc='best')\n",
    "ax.set_xlabel(\"x\")\n",
    "ax.set_ylabel(\"Entries\")"
   ]
  },
  {
   "cell_type": "code",
   "execution_count": 20,
   "id": "03cce5ed-a70b-4356-8a56-ef1542fcda23",
   "metadata": {},
   "outputs": [
    {
     "data": {
      "text/plain": [
       "<matplotlib.legend.Legend at 0x79d1c4965fc0>"
      ]
     },
     "execution_count": 20,
     "metadata": {},
     "output_type": "execute_result"
    },
    {
     "data": {
      "image/png": "[encoded data removed]",
      "text/plain": [
       "<Figure size 432x288 with 1 Axes>"
      ]
     },
     "metadata": {
      "needs_background": "light"
     },
     "output_type": "display_data"
    }
   ],
   "source": [
    "# Plot normalisation as a function of delta_lambda\n",
    "delta_lambda = lambda_bprime - lambda_b\n",
    "fig, ax = plt.subplots()\n",
    "ax.plot(delta_lambda, np.array(Bprime_rwgt)/B)\n",
    "ax.set_xlabel(\"$\\Delta\\lambda_b = \\lambda_b^\\prime - \\lambda_b$\")\n",
    "ax.set_ylabel(\"Relative change in B norm\")\n",
    "ax.axhline(1, color='grey', ls='--', alpha=0.5)\n",
    "ax.axvline(lambda_b-lambda_b, color='black', ls='--', label=f\"Nominal, $\\lambda_b$ = {lambda_b:.2f}\")\n",
    "ax.legend(loc='best')"
   ]
  },
  {
   "cell_type": "code",
   "execution_count": 21,
   "id": "824e3410-d95b-4835-8a04-bfe7a929b685",
   "metadata": {},
   "outputs": [],
   "source": [
    "# Add normalisation factor from nominal dataset\n",
    "norm_factor = (B/B_rwgt)\n",
    "df_b['rwgt_normed'] = df_b['rwgt']*norm_factor"
   ]
  },
  {
   "cell_type": "code",
   "execution_count": 22,
   "id": "e6d2cdba-e315-4421-8577-eeee347eb31b",
   "metadata": {},
   "outputs": [
    {
     "data": {
      "image/png": "[encoded data removed]",
      "text/plain": [
       "<Figure size 432x288 with 1 Axes>"
      ]
     },
     "metadata": {
      "needs_background": "light"
     },
     "output_type": "display_data"
    }
   ],
   "source": [
    "nbins = 50\n",
    "xrange = (0,1.5)\n",
    "\n",
    "fig, ax = plt.subplots()\n",
    "ax.hist(df_a['x'], bins=nbins, range=xrange, label='A', color='red', alpha=0.2)\n",
    "ax.hist(df_b['x'], bins=nbins, range=xrange, label='B', color='blue', alpha=0.2)\n",
    "ax.hist(df_b['x'], bins=nbins, range=xrange, label='B (rwgt)', color='black', histtype='step', weights=df_b['rwgt'])\n",
    "ax.hist(df_b['x'], bins=nbins, range=xrange, label='B (rwgt normed)', color='orange', histtype='step', weights=df_b['rwgt_normed'])\n",
    "ax.legend(loc='best')\n",
    "ax.set_xlabel(\"x\")\n",
    "ax.set_ylabel(\"Entries\")\n",
    "ax.set_yscale(\"log\")"
   ]
  },
  {
   "cell_type": "code",
   "execution_count": 23,
   "id": "4f1c861d-2d32-4ceb-815a-043c361bcd6a",
   "metadata": {},
   "outputs": [],
   "source": [
    "# Generate new background with slightly changed distribution, using norm factor derived\n",
    "lambda_bprime = np.linspace(2.75,3.25,50)\n",
    "N = 100000\n",
    "Bprime_rwgt = []\n",
    "\n",
    "for i, lb in enumerate(lambda_bprime):\n",
    "\n",
    "    f_bprime = torch.distributions.exponential.Exponential(rate=lb)\n",
    "    df_bprime = generate_simulation(f_bprime, N, type='b')\n",
    "\n",
    "    df_bprime['xT'] = (df_bprime['x']-m)/s\n",
    "    df_bprime['nn_bce'] = model_bce(torch.tensor(df_bprime[['xT']].to_numpy())).detach()\n",
    "    df_bprime['rwgt'] = df_bprime['nn_bce']/(1-df_bprime['nn_bce'])\n",
    "    Bprime_rwgt.append(norm_factor*df_bprime['rwgt'].sum())"
   ]
  },
  {
   "cell_type": "code",
   "execution_count": 24,
   "id": "c6026d18-f67f-4337-b8c4-50c974eaac81",
   "metadata": {},
   "outputs": [
    {
     "data": {
      "text/plain": [
       "<matplotlib.legend.Legend at 0x79d1c461ff70>"
      ]
     },
     "execution_count": 24,
     "metadata": {},
     "output_type": "execute_result"
    },
    {
     "data": {
      "image/png": "[encoded data removed]",
      "text/plain": [
       "<Figure size 432x288 with 1 Axes>"
      ]
     },
     "metadata": {
      "needs_background": "light"
     },
     "output_type": "display_data"
    }
   ],
   "source": [
    "# Plot normalisation as a function of delta_lambda\n",
    "delta_lambda = lambda_bprime - lambda_b\n",
    "fig, ax = plt.subplots()\n",
    "ax.plot(delta_lambda, np.array(Bprime_rwgt)/B, label=\"With normalisation factor\")\n",
    "ax.set_xlabel(\"$\\Delta\\lambda_b = \\lambda^\\prime_b - \\lambda_b$\")\n",
    "ax.set_ylabel(\"Relative change in B norm\")\n",
    "ax.axhline(1, color='grey', ls='--', alpha=0.5)\n",
    "ax.axvline(lambda_b-lambda_b, color='black', ls='--', label=f\"Nominal, $\\lambda_b$ = {lambda_b:.2f}\")\n",
    "ax.legend(loc='best')"
   ]
  },
  {
   "cell_type": "markdown",
   "id": "cf549840",
   "metadata": {},
   "source": [
    "---\n",
    "\n",
    "If we must renormalise the sample, does this mean we get the shape wrong? Let's start with the original A and B samples. The network was trained to match B to A. When it does, we saw a 0.4% change in the normalisation. \n",
    "\n",
    "I can create a scenario where the normalisation changes more drastically. Suppose we place a cut at x = 0.2."
   ]
  },
  {
   "cell_type": "code",
   "execution_count": 25,
   "id": "2fc37da2",
   "metadata": {},
   "outputs": [
    {
     "data": {
      "text/html": [
       "<div>\n",
       "<style scoped>\n",
       "    .dataframe tbody tr th:only-of-type {\n",
       "        vertical-align: middle;\n",
       "    }\n",
       "\n",
       "    .dataframe tbody tr th {\n",
       "        vertical-align: top;\n",
       "    }\n",
       "\n",
       "    .dataframe thead th {\n",
       "        text-align: right;\n",
       "    }\n",
       "</style>\n",
       "<table border=\"1\" class=\"dataframe\">\n",
       "  <thead>\n",
       "    <tr style=\"text-align: right;\">\n",
       "      <th></th>\n",
       "      <th>x</th>\n",
       "      <th>is_a</th>\n",
       "      <th>is_b</th>\n",
       "      <th>xT</th>\n",
       "      <th>nn_bce</th>\n",
       "      <th>rwgt</th>\n",
       "      <th>rwgt_normed</th>\n",
       "    </tr>\n",
       "  </thead>\n",
       "  <tbody>\n",
       "    <tr>\n",
       "      <th>7</th>\n",
       "      <td>0.289562</td>\n",
       "      <td>0</td>\n",
       "      <td>1</td>\n",
       "      <td>-0.063974</td>\n",
       "      <td>0.503394</td>\n",
       "      <td>1.013669</td>\n",
       "      <td>1.008996</td>\n",
       "    </tr>\n",
       "    <tr>\n",
       "      <th>8</th>\n",
       "      <td>0.668172</td>\n",
       "      <td>0</td>\n",
       "      <td>1</td>\n",
       "      <td>1.149009</td>\n",
       "      <td>0.449305</td>\n",
       "      <td>0.815889</td>\n",
       "      <td>0.812127</td>\n",
       "    </tr>\n",
       "    <tr>\n",
       "      <th>9</th>\n",
       "      <td>0.594500</td>\n",
       "      <td>0</td>\n",
       "      <td>1</td>\n",
       "      <td>0.912979</td>\n",
       "      <td>0.458962</td>\n",
       "      <td>0.848299</td>\n",
       "      <td>0.844388</td>\n",
       "    </tr>\n",
       "    <tr>\n",
       "      <th>11</th>\n",
       "      <td>0.531521</td>\n",
       "      <td>0</td>\n",
       "      <td>1</td>\n",
       "      <td>0.711208</td>\n",
       "      <td>0.467746</td>\n",
       "      <td>0.878801</td>\n",
       "      <td>0.874749</td>\n",
       "    </tr>\n",
       "    <tr>\n",
       "      <th>16</th>\n",
       "      <td>1.077891</td>\n",
       "      <td>0</td>\n",
       "      <td>1</td>\n",
       "      <td>2.461653</td>\n",
       "      <td>0.410594</td>\n",
       "      <td>0.696624</td>\n",
       "      <td>0.693412</td>\n",
       "    </tr>\n",
       "    <tr>\n",
       "      <th>...</th>\n",
       "      <td>...</td>\n",
       "      <td>...</td>\n",
       "      <td>...</td>\n",
       "      <td>...</td>\n",
       "      <td>...</td>\n",
       "      <td>...</td>\n",
       "      <td>...</td>\n",
       "    </tr>\n",
       "    <tr>\n",
       "      <th>99993</th>\n",
       "      <td>0.527385</td>\n",
       "      <td>0</td>\n",
       "      <td>1</td>\n",
       "      <td>0.697957</td>\n",
       "      <td>0.468337</td>\n",
       "      <td>0.880890</td>\n",
       "      <td>0.876828</td>\n",
       "    </tr>\n",
       "    <tr>\n",
       "      <th>99995</th>\n",
       "      <td>0.300364</td>\n",
       "      <td>0</td>\n",
       "      <td>1</td>\n",
       "      <td>-0.029365</td>\n",
       "      <td>0.501828</td>\n",
       "      <td>1.007338</td>\n",
       "      <td>1.002694</td>\n",
       "    </tr>\n",
       "    <tr>\n",
       "      <th>99996</th>\n",
       "      <td>0.311418</td>\n",
       "      <td>0</td>\n",
       "      <td>1</td>\n",
       "      <td>0.006048</td>\n",
       "      <td>0.500215</td>\n",
       "      <td>1.000862</td>\n",
       "      <td>0.996247</td>\n",
       "    </tr>\n",
       "    <tr>\n",
       "      <th>99998</th>\n",
       "      <td>0.394584</td>\n",
       "      <td>0</td>\n",
       "      <td>1</td>\n",
       "      <td>0.272495</td>\n",
       "      <td>0.487885</td>\n",
       "      <td>0.952687</td>\n",
       "      <td>0.948294</td>\n",
       "    </tr>\n",
       "    <tr>\n",
       "      <th>99999</th>\n",
       "      <td>0.655835</td>\n",
       "      <td>0</td>\n",
       "      <td>1</td>\n",
       "      <td>1.109484</td>\n",
       "      <td>0.450870</td>\n",
       "      <td>0.821063</td>\n",
       "      <td>0.817278</td>\n",
       "    </tr>\n",
       "  </tbody>\n",
       "</table>\n",
       "<p>54953 rows × 7 columns</p>\n",
       "</div>"
      ],
      "text/plain": [
       "              x  is_a  is_b        xT    nn_bce      rwgt  rwgt_normed\n",
       "7      0.289562     0     1 -0.063974  0.503394  1.013669     1.008996\n",
       "8      0.668172     0     1  1.149009  0.449305  0.815889     0.812127\n",
       "9      0.594500     0     1  0.912979  0.458962  0.848299     0.844388\n",
       "11     0.531521     0     1  0.711208  0.467746  0.878801     0.874749\n",
       "16     1.077891     0     1  2.461653  0.410594  0.696624     0.693412\n",
       "...         ...   ...   ...       ...       ...       ...          ...\n",
       "99993  0.527385     0     1  0.697957  0.468337  0.880890     0.876828\n",
       "99995  0.300364     0     1 -0.029365  0.501828  1.007338     1.002694\n",
       "99996  0.311418     0     1  0.006048  0.500215  1.000862     0.996247\n",
       "99998  0.394584     0     1  0.272495  0.487885  0.952687     0.948294\n",
       "99999  0.655835     0     1  1.109484  0.450870  0.821063     0.817278\n",
       "\n",
       "[54953 rows x 7 columns]"
      ]
     },
     "execution_count": 25,
     "metadata": {},
     "output_type": "execute_result"
    }
   ],
   "source": [
    "df_a_cut = df_a[df_a.x > 0.2]\n",
    "df_b_cut = df_b[df_b.x > 0.2]\n",
    "df_b_cut"
   ]
  },
  {
   "cell_type": "markdown",
   "id": "feec461c",
   "metadata": {},
   "source": [
    "The normalisation of this sample is no longer correct (necessarily). We must find/derive a new \"God-given number\" for the normalisation of the cut sample. We can use sample A to do this actually since it is the analogy to data. Assuming the normalisation of sample B was correct beforehand, we can derive a simple scale factor.\n",
    "\n",
    "Norm B cut = Norm B inclusive * (Norm A cut / Norm A inclusive)\n",
    "\n",
    "Since we start off with equal normalisations for the inclusive samples of A and B, this is quite trivial. The normalisation of B after the cut is the same as A after the cut."
   ]
  },
  {
   "cell_type": "code",
   "execution_count": 26,
   "id": "90818dda",
   "metadata": {},
   "outputs": [
    {
     "name": "stderr",
     "output_type": "stream",
     "text": [
      "/tmp/ipykernel_6196/4037320302.py:1: SettingWithCopyWarning: \n",
      "A value is trying to be set on a copy of a slice from a DataFrame.\n",
      "Try using .loc[row_indexer,col_indexer] = value instead\n",
      "\n",
      "See the caveats in the documentation: https://pandas.pydata.org/pandas-docs/stable/user_guide/indexing.html#returning-a-view-versus-a-copy\n",
      "  df_a_cut[\"w\"] = 1\n",
      "/tmp/ipykernel_6196/4037320302.py:2: SettingWithCopyWarning: \n",
      "A value is trying to be set on a copy of a slice from a DataFrame.\n",
      "Try using .loc[row_indexer,col_indexer] = value instead\n",
      "\n",
      "See the caveats in the documentation: https://pandas.pydata.org/pandas-docs/stable/user_guide/indexing.html#returning-a-view-versus-a-copy\n",
      "  df_b_cut[\"w\"] = 1\n",
      "/tmp/ipykernel_6196/4037320302.py:5: SettingWithCopyWarning: \n",
      "A value is trying to be set on a copy of a slice from a DataFrame.\n",
      "Try using .loc[row_indexer,col_indexer] = value instead\n",
      "\n",
      "See the caveats in the documentation: https://pandas.pydata.org/pandas-docs/stable/user_guide/indexing.html#returning-a-view-versus-a-copy\n",
      "  df_b_cut[\"w\"] *= Norm_b_cut / df_b_cut.w.sum()\n"
     ]
    }
   ],
   "source": [
    "df_a_cut[\"w\"] = 1\n",
    "df_b_cut[\"w\"] = 1\n",
    "\n",
    "Norm_b_cut = len(df_b) * (len(df_a_cut) / len(df_a))\n",
    "df_b_cut[\"w\"] *= Norm_b_cut / df_b_cut.w.sum()"
   ]
  },
  {
   "cell_type": "code",
   "execution_count": 27,
   "id": "7537653f",
   "metadata": {},
   "outputs": [
    {
     "name": "stdout",
     "output_type": "stream",
     "text": [
      "A Cut = 49594, B Cut = 49594.00000000003\n"
     ]
    }
   ],
   "source": [
    "# Total sum of weights\n",
    "A_cut = df_a_cut['w'].sum()\n",
    "B_cut = df_b_cut['w'].sum()\n",
    "print(f\"A Cut = {A_cut}, B Cut = {B_cut}\")"
   ]
  },
  {
   "cell_type": "code",
   "execution_count": 28,
   "id": "e29dbfaa-d5e5-4e14-b79c-9b493bcadfd2",
   "metadata": {},
   "outputs": [
    {
     "data": {
      "text/plain": [
       "Text(0, 0.5, 'Entries')"
      ]
     },
     "execution_count": 28,
     "metadata": {},
     "output_type": "execute_result"
    },
    {
     "data": {
      "image/png": "[encoded data removed]",
      "text/plain": [
       "<Figure size 432x288 with 1 Axes>"
      ]
     },
     "metadata": {
      "needs_background": "light"
     },
     "output_type": "display_data"
    }
   ],
   "source": [
    "nbins = 50\n",
    "xrange = (0,1.5)\n",
    "\n",
    "fig, ax = plt.subplots()\n",
    "ax.hist(df_a['x'], bins=nbins, range=xrange, label='A', color='red', alpha=0.2)\n",
    "ax.hist(df_b_cut['x'], bins=nbins, range=xrange, label='B Cut', color='blue', alpha=0.2, weights=df_b_cut.w)\n",
    "ax.hist(df_b_cut['x'], bins=nbins, range=xrange, label='B Cut (rwgt)', color='black', histtype='step', weights=df_b_cut['rwgt']*df_b_cut.w)\n",
    "ax.legend(loc='best')\n",
    "ax.set_xlabel(\"x\")\n",
    "ax.set_ylabel(\"Entries\")"
   ]
  },
  {
   "cell_type": "code",
   "execution_count": 29,
   "id": "5b2bae3d",
   "metadata": {},
   "outputs": [
    {
     "name": "stdout",
     "output_type": "stream",
     "text": [
      "B Cut = 49594.00000000003, B Cut(rwgt) = 44924.707938372994\n"
     ]
    }
   ],
   "source": [
    "# Total sum of weights\n",
    "B_cut = df_b_cut.w.sum()\n",
    "B_cut_rwgt = (df_b_cut['rwgt']*df_b_cut.w).sum()\n",
    "print(f\"B Cut = {B_cut}, B Cut(rwgt) = {B_cut_rwgt}\")"
   ]
  },
  {
   "cell_type": "markdown",
   "id": "73decc2b",
   "metadata": {},
   "source": [
    "We now see a bigger change in the normalisation than we did over the inclusive sample. And our sample does not match A. But what happens if we renormalise the B cut sample to its normalisation before reweighting?"
   ]
  },
  {
   "cell_type": "code",
   "execution_count": 30,
   "id": "bea47ca7",
   "metadata": {},
   "outputs": [
    {
     "name": "stdout",
     "output_type": "stream",
     "text": [
      "1.103935946963357\n"
     ]
    },
    {
     "name": "stderr",
     "output_type": "stream",
     "text": [
      "/tmp/ipykernel_6196/2076715363.py:3: SettingWithCopyWarning: \n",
      "A value is trying to be set on a copy of a slice from a DataFrame.\n",
      "Try using .loc[row_indexer,col_indexer] = value instead\n",
      "\n",
      "See the caveats in the documentation: https://pandas.pydata.org/pandas-docs/stable/user_guide/indexing.html#returning-a-view-versus-a-copy\n",
      "  df_b_cut[\"rwgt_normed\"] = df_b_cut.rwgt * renorm_factor\n"
     ]
    }
   ],
   "source": [
    "renorm_factor = df_b_cut.w.sum() / (df_b_cut.w * df_b_cut.rwgt).sum()\n",
    "print(renorm_factor)\n",
    "df_b_cut[\"rwgt_normed\"] = df_b_cut.rwgt * renorm_factor"
   ]
  },
  {
   "cell_type": "code",
   "execution_count": 34,
   "id": "3a6cb4b7",
   "metadata": {},
   "outputs": [
    {
     "name": "stdout",
     "output_type": "stream",
     "text": [
      "B Cut = 49594.00000000003, B Cut(rwgt normed) = 49594.0004562101\n"
     ]
    }
   ],
   "source": [
    "# Total sum of weights\n",
    "B_cut = df_b_cut.w.sum()\n",
    "B_cut_rwgt_normed = (df_b_cut['rwgt_normed']*df_b_cut.w).sum()\n",
    "print(f\"B Cut = {B_cut}, B Cut(rwgt normed) = {B_cut_rwgt_normed}\")"
   ]
  },
  {
   "cell_type": "code",
   "execution_count": 33,
   "id": "b195c3fd",
   "metadata": {},
   "outputs": [
    {
     "data": {
      "text/plain": [
       "Text(0, 0.5, 'Entries')"
      ]
     },
     "execution_count": 33,
     "metadata": {},
     "output_type": "execute_result"
    },
    {
     "data": {
      "image/png": "[encoded data removed]",
      "text/plain": [
       "<Figure size 432x288 with 1 Axes>"
      ]
     },
     "metadata": {
      "needs_background": "light"
     },
     "output_type": "display_data"
    }
   ],
   "source": [
    "nbins = 50\n",
    "xrange = (0,1.5)\n",
    "\n",
    "fig, ax = plt.subplots()\n",
    "ax.hist(df_a['x'], bins=nbins, range=xrange, label='A', color='red', alpha=0.2)\n",
    "ax.hist(df_b_cut['x'], bins=nbins, range=xrange, label='B Cut', color='blue', alpha=0.2, weights=df_b_cut.w)\n",
    "ax.hist(df_b_cut['x'], bins=nbins, range=xrange, label='B Cut (rwgt normed)', color='black', histtype='step', weights=df_b_cut['rwgt_normed']*df_b_cut.w)\n",
    "ax.legend(loc='best')\n",
    "ax.set_xlabel(\"x\")\n",
    "ax.set_ylabel(\"Entries\")"
   ]
  },
  {
   "cell_type": "markdown",
   "id": "733ceec2",
   "metadata": {},
   "source": [
    "Ta-da! It matches! \n",
    "\n",
    "This shows that it doesn't matter whether you're reweighting a subset of the original phase space, as long as you know the correct normalisation for the less-inclusive sample (which you renormalise to after reweighting)."
   ]
  },
  {
   "cell_type": "markdown",
   "id": "8b723c91",
   "metadata": {},
   "source": [
    "Things get more interesting when we start talking about applying the reweighting to a sample in the same phase space, but where the distributions are different. We did this above by varying $\\lambda$ in the exponential distributions and we saw normalisation changes.  \n",
    "\n",
    "We can always renormalise, so that's not a problem. Is the shape preserved? Of course it is, you're only applying an overall scaling. The fraction of events that are e.g. in a region $0.2 < x < 0.4$ is the same as before. \n",
    "\n",
    "Do we expect these reweighted samples to match up with A? No. The reweighting procedure/function is essentially saying that certain regions of $x$ ought to be upweighted/downweighted by fixed amounts (I know it's unbinned but I like to think of it this way). Therefore, it will only work when starting from the original B distribution. \n",
    "\n",
    "Is this a problem? I also think no.\n",
    "\n",
    "Let's get less abstract and start talking about electrons and photons. Our A and B samples are electrons reconstructed as photons. And our altered $\\lambda$ samples are examples of what a photon sample may be. \n",
    "\n",
    "If electrons and photons are different, then we do not expect the photon distributions in MC to match up with the electrons distributions in MC or data (they should not match up to A or B). \n",
    "\n",
    "What we are trying to do is to find regions where the simulation under/overpredicts events in certain regions of phase space.\n",
    "In order to fix the shape, we need to quantify the relative amount of disagreement in some regions to others. For example,  maybe I ought to multiply the weights in $0.2 < x < 0.3$ by 0.8 and the weights in $0.3 < x < 0.4$ by 1.2. This is what the network does, except there's an overall scaling left in which comes from the original A and B (hence the need for renormalisation). Staying with our example, the network might instead say, multiply the weights in $0.2 < x < 0.3$ by 0.4 and the weights in $0.3 < x < 0.4$ by 0.6. This is not what we want, but can be fixed by the renormalisation (a factor of two in this case).\n",
    "\n",
    "Pratically, we do this by looking at electrons, and then apply this to photons, assuming that the amount of under/overprediction is the same for electrons as it is for photons. "
   ]
  },
  {
   "cell_type": "markdown",
   "id": "a96964d1",
   "metadata": {},
   "source": [
    "If we apply the reweighting + renormalisation to the $Z\\gamma$ MC and compare to data and it is still discrepant, I think it just means:\n",
    "1. we got the original normalisation wrong, or\n",
    "2. we cannot safely assume that the simulation gets electrons wrong in the same way it does for photons"
   ]
  }
 ],
 "metadata": {
  "kernelspec": {
   "display_name": "Python 3 (ipykernel)",
   "language": "python",
   "name": "python3"
  },
  "language_info": {
   "codemirror_mode": {
    "name": "ipython",
    "version": 3
   },
   "file_extension": ".py",
   "mimetype": "text/x-python",
   "name": "python",
   "nbconvert_exporter": "python",
   "pygments_lexer": "ipython3",
   "version": "3.10.12"
  }
 },
 "nbformat": 4,
 "nbformat_minor": 5
}
